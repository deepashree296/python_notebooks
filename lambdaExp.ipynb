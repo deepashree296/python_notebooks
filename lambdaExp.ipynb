## changes made by deeparchive user

 {
 "cells": [
  {
   "cell_type": "code",
   "execution_count": 6,
   "metadata": {},
   "outputs": [
    {
     "name": "stdout",
     "output_type": "stream",
     "text": [
      "15\n"
     ]
    }
   ],
   "source": [
    "## returning function as an argument, can use variables in scope\n",
    "\n",
    "def f1(n):\n",
    "    return lambda x: print(x + n)\n",
    "\n",
    "f = f1(10)\n",
    "f(5)"
   ]
  },
  {
   "cell_type": "code",
   "execution_count": 21,
   "metadata": {},
   "outputs": [
    {
     "name": "stdout",
     "output_type": "stream",
     "text": [
      "[(4, 'four'), (1, 'one'), (3, 'three'), (2, 'two')]\n",
      "[(4, 'four'), (1, 'one'), (3, 'three'), (2, 'two')]\n"
     ]
    }
   ],
   "source": [
    "# using lambda as function arguments\n",
    "\n",
    "# using conventional way\n",
    "def secondarg(args):\n",
    "        return args[1]    \n",
    "pairs = [(1, 'one'), (2, 'two'), (3, 'three'), (4, 'four')]\n",
    "pairs.sort(key=secondarg)\n",
    "print(pairs)\n",
    "\n",
    "# lambda way - no need to define a named function\n",
    "second_pair = [(1, 'one'), (2, 'two'), (3, 'three'), (4, 'four')]\n",
    "second_pair.sort(key=lambda args: args[1])\n",
    "print(second_pair)\n"
   ]
  },
  {
   "cell_type": "code",
   "execution_count": null,
   "metadata": {
    "collapsed": true
   },
   "outputs": [],
   "source": []
  }
 ],
 "metadata": {
  "kernelspec": {
   "display_name": "Python 3",
   "language": "python",
   "name": "python3"
  },
  "language_info": {
   "codemirror_mode": {
    "name": "ipython",
    "version": 3
   },
   "file_extension": ".py",
   "mimetype": "text/x-python",
   "name": "python",
   "nbconvert_exporter": "python",
   "pygments_lexer": "ipython3",
   "version": "3.6.3"
  }
 },
 "nbformat": 4,
 "nbformat_minor": 2
}
